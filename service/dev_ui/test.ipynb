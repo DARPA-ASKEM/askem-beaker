{
 "cells": [
  {
   "cell_type": "code",
   "execution_count": null,
   "metadata": {},
   "outputs": [],
   "source": []
  }
 ],
 "metadata": {
  "anaconda-cloud": {},
  "kernelspec": {
   "display_name": "Beaker Kernel",
   "language": "beaker",
   "name": "beaker"
  },
  "language_info": {
   "file_extension": ".txt",
   "mimetype": "text/plain",
   "name": "text"
  }
 },
 "nbformat": 4,
 "nbformat_minor": 4
}
